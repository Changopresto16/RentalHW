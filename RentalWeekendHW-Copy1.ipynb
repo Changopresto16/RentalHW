{
 "cells": [
  {
   "cell_type": "markdown",
   "id": "48aa7f01",
   "metadata": {},
   "source": []
  },
  {
   "cell_type": "code",
   "execution_count": 1,
   "id": "2409a250",
   "metadata": {},
   "outputs": [
    {
     "name": "stdout",
     "output_type": "stream",
     "text": [
      ":Income:\n"
     ]
    },
    {
     "ename": "ValueError",
     "evalue": "invalid literal for int() with base 10: ''",
     "output_type": "error",
     "traceback": [
      "\u001b[0;31m---------------------------------------------------------------------------\u001b[0m",
      "\u001b[0;31mValueError\u001b[0m                                Traceback (most recent call last)",
      "\u001b[1;32m/Users/michael/Documents/CodeTemple/Week3/Day4/RentalWeekendHW-Copy1.ipynb Cell 2'\u001b[0m in \u001b[0;36m<cell line: 45>\u001b[0;34m()\u001b[0m\n\u001b[1;32m     <a href='vscode-notebook-cell:/Users/michael/Documents/CodeTemple/Week3/Day4/RentalWeekendHW-Copy1.ipynb#ch0000001?line=40'>41</a>\u001b[0m         \u001b[39mself\u001b[39m\u001b[39m.\u001b[39mmisc2 \u001b[39m=\u001b[39m \u001b[39minput\u001b[39m(\u001b[39m'\u001b[39m\u001b[39mMisc: \u001b[39m\u001b[39m'\u001b[39m)\n\u001b[1;32m     <a href='vscode-notebook-cell:/Users/michael/Documents/CodeTemple/Week3/Day4/RentalWeekendHW-Copy1.ipynb#ch0000001?line=43'>44</a>\u001b[0m \u001b[39mproperty\u001b[39m \u001b[39m=\u001b[39m TOTAL()\n\u001b[0;32m---> <a href='vscode-notebook-cell:/Users/michael/Documents/CodeTemple/Week3/Day4/RentalWeekendHW-Copy1.ipynb#ch0000001?line=44'>45</a>\u001b[0m \u001b[39mprint\u001b[39m(\u001b[39mproperty\u001b[39;49m\u001b[39m.\u001b[39;49mIncome())\n\u001b[1;32m     <a href='vscode-notebook-cell:/Users/michael/Documents/CodeTemple/Week3/Day4/RentalWeekendHW-Copy1.ipynb#ch0000001?line=45'>46</a>\u001b[0m \u001b[39mprint\u001b[39m(\u001b[39mproperty\u001b[39m\u001b[39m.\u001b[39mExpenses())\n\u001b[1;32m     <a href='vscode-notebook-cell:/Users/michael/Documents/CodeTemple/Week3/Day4/RentalWeekendHW-Copy1.ipynb#ch0000001?line=46'>47</a>\u001b[0m \u001b[39mprint\u001b[39m(\u001b[39mproperty\u001b[39m\u001b[39m.\u001b[39mCashflow())\n",
      "\u001b[1;32m/Users/michael/Documents/CodeTemple/Week3/Day4/RentalWeekendHW-Copy1.ipynb Cell 2'\u001b[0m in \u001b[0;36mTOTAL.Income\u001b[0;34m(self)\u001b[0m\n\u001b[1;32m     <a href='vscode-notebook-cell:/Users/michael/Documents/CodeTemple/Week3/Day4/RentalWeekendHW-Copy1.ipynb#ch0000001?line=10'>11</a>\u001b[0m \u001b[39mself\u001b[39m\u001b[39m.\u001b[39mstorage \u001b[39m=\u001b[39m \u001b[39minput\u001b[39m(\u001b[39m'\u001b[39m\u001b[39mStorage: \u001b[39m\u001b[39m'\u001b[39m)\n\u001b[1;32m     <a href='vscode-notebook-cell:/Users/michael/Documents/CodeTemple/Week3/Day4/RentalWeekendHW-Copy1.ipynb#ch0000001?line=11'>12</a>\u001b[0m \u001b[39mself\u001b[39m\u001b[39m.\u001b[39mMISC \u001b[39m=\u001b[39m \u001b[39minput\u001b[39m(\u001b[39m'\u001b[39m\u001b[39mMISC. :\u001b[39m\u001b[39m'\u001b[39m)\n\u001b[0;32m---> <a href='vscode-notebook-cell:/Users/michael/Documents/CodeTemple/Week3/Day4/RentalWeekendHW-Copy1.ipynb#ch0000001?line=13'>14</a>\u001b[0m \u001b[39mself\u001b[39m\u001b[39m.\u001b[39mtotal_1 \u001b[39m=\u001b[39m (\u001b[39mint\u001b[39;49m(\u001b[39mself\u001b[39;49m\u001b[39m.\u001b[39;49mmonthly_rent)\u001b[39m+\u001b[39m(\u001b[39mint\u001b[39m(\u001b[39mself\u001b[39m\u001b[39m.\u001b[39mlawn_care))\u001b[39m+\u001b[39m(\u001b[39mint\u001b[39m(\u001b[39mself\u001b[39m\u001b[39m.\u001b[39mstorage)\u001b[39m+\u001b[39m(\u001b[39mint\u001b[39m(\u001b[39mself\u001b[39m\u001b[39m.\u001b[39mMISC))))\n\u001b[1;32m     <a href='vscode-notebook-cell:/Users/michael/Documents/CodeTemple/Week3/Day4/RentalWeekendHW-Copy1.ipynb#ch0000001?line=15'>16</a>\u001b[0m \u001b[39mprint\u001b[39m (\u001b[39m'\u001b[39m\u001b[39m::Exspense::\u001b[39m\u001b[39m'\u001b[39m)\n",
      "\u001b[0;31mValueError\u001b[0m: invalid literal for int() with base 10: ''"
     ]
    }
   ],
   "source": [
    "class TOTAL:\n",
    "    \n",
    "    def __init__(self):\n",
    "        None\n",
    "    \n",
    "        print (\":Income:\")\n",
    "\n",
    "    def Income (self):\n",
    "        self.monthly_rent = input('Monthly Rent: ')\n",
    "        self.lawn_care = input('Lawn Care: ')\n",
    "        self.storage = input('Storage: ')\n",
    "        self.MISC = input('MISC. :')\n",
    "\n",
    "        self.total_1 = (int(self.monthly_rent)+(int(self.lawn_care))+(int(self.storage)+(int(self.MISC))))\n",
    "\n",
    "        print ('::Exspense::')   \n",
    "\n",
    "    def Expenses(self):\n",
    "        self.tax = input('Taxes: ')\n",
    "        self.insc = input('Insurance Cost: ')\n",
    "        self.vacn = input('Vacancy Cost: ')\n",
    "        self.repairs = input('Repair Cost: ')\n",
    "        self.capx = input('Capital Expenses: ')\n",
    "        self.pmgmt = input('Property Managment: ')\n",
    "\n",
    "        self.total_2= (int(self.tax)+(int(self.insc)+(int(self.vacn)+(int(self.repairs)+(int(self.capx)+(int(self.pmgmt)))))))\n",
    "\n",
    "        print(':::Investment:::')\n",
    "\n",
    "    def Cashflow(self):\n",
    "        self.cashflow = (int(self.total_1) - (int(self.total_2)))\n",
    "                         \n",
    "       \n",
    "        print(':::::CASH ON CASH ROI:::::')\n",
    "                         \n",
    "    def COCROI(self):\n",
    "        self.down = input('Down Payment: ')\n",
    "        self.close = input('Closing Cost: ')\n",
    "        self.rehab = input('Rehab Budget: ')\n",
    "        self.misc2 = input('Misc: ')\n",
    "\n",
    "\n",
    "property = TOTAL()\n",
    "print(property.Income())\n",
    "print(property.Expenses())\n",
    "print(property.Cashflow())\n",
    "print(property.CICROI())\n",
    "    \n",
    "\n",
    "ROI = (int(self.cashflow)*12)%(self.COCROI)\n",
    "print(ROI)"
   ]
  }
 ],
 "metadata": {
  "kernelspec": {
   "display_name": "Python 3.9.7 64-bit",
   "language": "python",
   "name": "python3"
  },
  "language_info": {
   "codemirror_mode": {
    "name": "ipython",
    "version": 3
   },
   "file_extension": ".py",
   "mimetype": "text/x-python",
   "name": "python",
   "nbconvert_exporter": "python",
   "pygments_lexer": "ipython3",
   "version": "3.9.7"
  },
  "vscode": {
   "interpreter": {
    "hash": "aee8b7b246df8f9039afb4144a1f6fd8d2ca17a180786b69acc140d282b71a49"
   }
  }
 },
 "nbformat": 4,
 "nbformat_minor": 5
}
