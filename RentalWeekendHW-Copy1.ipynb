{
 "cells": [
  {
   "cell_type": "markdown",
   "id": "48aa7f01",
   "metadata": {},
   "source": []
  },
  {
   "cell_type": "code",
   "execution_count": 12,
   "id": "2409a250",
   "metadata": {},
   "outputs": [
    {
     "name": "stdout",
     "output_type": "stream",
     "text": [
      "Monthly Rent: 100\n",
      "Lawn Care: 100\n",
      "Storage: 100\n",
      "MISC. :100\n"
     ]
    },
    {
     "ename": "TypeError",
     "evalue": "'int' object is not iterable",
     "output_type": "error",
     "traceback": [
      "\u001b[0;31m---------------------------------------------------------------------------\u001b[0m",
      "\u001b[0;31mTypeError\u001b[0m                                 Traceback (most recent call last)",
      "\u001b[0;32m/var/folders/md/pf3wq4ms2kd_y1k8lmw0jkkc0000gn/T/ipykernel_43041/2381488255.py\u001b[0m in \u001b[0;36m<module>\u001b[0;34m\u001b[0m\n\u001b[1;32m      6\u001b[0m \u001b[0mMISC\u001b[0m \u001b[0;34m=\u001b[0m \u001b[0minput\u001b[0m\u001b[0;34m(\u001b[0m\u001b[0;34m'MISC. :'\u001b[0m\u001b[0;34m)\u001b[0m\u001b[0;34m\u001b[0m\u001b[0;34m\u001b[0m\u001b[0m\n\u001b[1;32m      7\u001b[0m \u001b[0;34m\u001b[0m\u001b[0m\n\u001b[0;32m----> 8\u001b[0;31m \u001b[0mtotal_income\u001b[0m \u001b[0;34m=\u001b[0m \u001b[0msum\u001b[0m\u001b[0;34m(\u001b[0m\u001b[0mint\u001b[0m\u001b[0;34m(\u001b[0m\u001b[0mmonthly_rent\u001b[0m\u001b[0;34m)\u001b[0m\u001b[0;34m+\u001b[0m\u001b[0;34m(\u001b[0m\u001b[0mint\u001b[0m\u001b[0;34m(\u001b[0m\u001b[0mlawn_care\u001b[0m\u001b[0;34m)\u001b[0m\u001b[0;34m)\u001b[0m\u001b[0;34m+\u001b[0m\u001b[0;34m(\u001b[0m\u001b[0mint\u001b[0m\u001b[0;34m(\u001b[0m\u001b[0mstorage\u001b[0m\u001b[0;34m)\u001b[0m\u001b[0;34m+\u001b[0m\u001b[0;34m(\u001b[0m\u001b[0mint\u001b[0m\u001b[0;34m(\u001b[0m\u001b[0mMISC\u001b[0m\u001b[0;34m)\u001b[0m\u001b[0;34m)\u001b[0m\u001b[0;34m)\u001b[0m\u001b[0;34m)\u001b[0m\u001b[0;34m\u001b[0m\u001b[0;34m\u001b[0m\u001b[0m\n\u001b[0m\u001b[1;32m      9\u001b[0m \u001b[0;34m\u001b[0m\u001b[0m\n\u001b[1;32m     10\u001b[0m \u001b[0mprint\u001b[0m\u001b[0;34m(\u001b[0m\u001b[0mtotal_income\u001b[0m\u001b[0;34m)\u001b[0m\u001b[0;34m\u001b[0m\u001b[0;34m\u001b[0m\u001b[0m\n",
      "\u001b[0;31mTypeError\u001b[0m: 'int' object is not iterable"
     ]
    }
   ],
   "source": [
    "import math\n",
    "\n",
    "monthly_rent = input('Monthly Rent: ')\n",
    "lawn_care = input('Lawn Care: ')\n",
    "storage = input('Storage: ')\n",
    "MISC = input('MISC. :')\n",
    "\n",
    "total_income = sum(int(monthly_rent)+(int(lawn_care))+(int(storage)+(int(MISC))))\n",
    "\n",
    "print(total_income) \n",
    "\n",
    "\n",
    "print('::Expenses::')\n",
    "\n",
    "tax = input('Taxes: ')\n",
    "insc = input('Insurance Cost: ')\n",
    "vacn = input('Vacancy Cost: ')\n",
    "repairs = input('Repair Cost: ')\n",
    "capx = input('Capital Expenses: ')\n",
    "pmgmt = input('Property Managment: ')\n",
    "\n",
    "total_exp = (int(tax)+(int(insc)+(int(vacn)+(int(repairs)+(int(capx)+(int(pmgmt)))))))\n",
    "print(total_exp) \n",
    "\n",
    "print(':::Cash Flow:::')\n",
    "\n",
    "cash_flow = (int(total_income)+(int(total_exp)))\n",
    "print(cash_flow)\n",
    "\n",
    "\n",
    "print('::::Investment::::')\n",
    "\n",
    "dwn = input('Down Payment: ')\n",
    "clsng = input('Closing Cost: ')\n",
    "rehab = input('Rehab/Repair Budget: ')\n",
    "MISC2 = input('Misc Investment:')\n",
    "\n",
    "total_invest = (int(dwn)+(int(clsng)+(int(rehab)+(int(MISC2)))))\n",
    "print(total_invest)\n",
    "\n",
    "print(':::::CASH ON CASH ROI:::::')\n",
    "\n",
    "ROI = (int(cash_flow)*12)%(total_invest)\n",
    "print = ROI\n"
   ]
  },
  {
   "cell_type": "markdown",
   "id": "f366a9c4",
   "metadata": {},
   "source": [
    "monthly_rent = input('Monthly Rent: ')\n",
    "lawn_care = input('Lawn Care: ')\n",
    "storage = input('Storage: ')\n",
    "MISC = input('MISC. :')\n",
    "\n",
    "total_income = sum(int(monthly_rent)+(int(lawn_care))+(int(storage)+(int(MISC))))\n",
    "\n",
    "print(total_income) \n"
   ]
  },
  {
   "cell_type": "code",
   "execution_count": 33,
   "id": "9f5ec039",
   "metadata": {},
   "outputs": [
    {
     "ename": "SyntaxError",
     "evalue": "invalid syntax (2682430985.py, line 7)",
     "output_type": "error",
     "traceback": [
      "\u001b[0;36m  File \u001b[0;32m\"/var/folders/md/pf3wq4ms2kd_y1k8lmw0jkkc0000gn/T/ipykernel_43041/2682430985.py\"\u001b[0;36m, line \u001b[0;32m7\u001b[0m\n\u001b[0;31m    Income = ((int(monthly_rent)+(int(lawn_care)+(int(storage)+(int(MISC))))))\u001b[0m\n\u001b[0m    ^\u001b[0m\n\u001b[0;31mSyntaxError\u001b[0m\u001b[0;31m:\u001b[0m invalid syntax\n"
     ]
    }
   ],
   "source": [
    "import math\n",
    "\n",
    "class Income():\n",
    "    \n",
    "    monthly_rent = (int(input('Monthly Rent: '))\n",
    "    \n",
    "Income = ((int(monthly_rent)+(int(lawn_care)+(int(storage)+(int(MISC))))))\n",
    "\n",
    "print(income) \n"
   ]
  },
  {
   "cell_type": "code",
   "execution_count": null,
   "id": "44717f3c",
   "metadata": {},
   "outputs": [],
   "source": []
  }
 ],
 "metadata": {
  "kernelspec": {
   "display_name": "Python 3 (ipykernel)",
   "language": "python",
   "name": "python3"
  },
  "language_info": {
   "codemirror_mode": {
    "name": "ipython",
    "version": 3
   },
   "file_extension": ".py",
   "mimetype": "text/x-python",
   "name": "python",
   "nbconvert_exporter": "python",
   "pygments_lexer": "ipython3",
   "version": "3.9.7"
  }
 },
 "nbformat": 4,
 "nbformat_minor": 5
}
