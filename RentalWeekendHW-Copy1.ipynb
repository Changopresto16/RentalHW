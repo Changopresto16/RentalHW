{
 "cells": [
  {
   "cell_type": "markdown",
   "id": "48aa7f01",
   "metadata": {},
   "source": []
  },
  {
   "cell_type": "code",
   "execution_count": null,
   "id": "2409a250",
   "metadata": {},
   "outputs": [],
   "source": [
    "class TOTAL:\n",
    "    \n",
    "    def __init__(self):\n",
    "        None\n",
    "    \n",
    "        print (\":Income:\")\n",
    "\n",
    "    def Income (self):\n",
    "        self.monthly_rent = input('Monthly Rent: ')\n",
    "        self.lawn_care = input('Lawn Care: ')\n",
    "        self.storage = input('Storage: ')\n",
    "        self.MISC = input('MISC. :')\n",
    "\n",
    "        self.total_1 = (int(self.monthly_rent)+(int(self.lawn_care))+(int(self.storage)+(int(self.MISC))))\n",
    "\n",
    "        print ('::Exspense::')   \n",
    "\n",
    "    def Expenses(self):\n",
    "        self.tax = input('Taxes: ')\n",
    "        self.insc = input('Insurance Cost: ')\n",
    "        self.vacn = input('Vacancy Cost: ')\n",
    "        self.repairs = input('Repair Cost: ')\n",
    "        self.capx = input('Capital Expenses: ')\n",
    "        self.pmgmt = input('Property Managment: ')\n",
    "\n",
    "        self.total_2= (int(self.tax)+(int(self.insc)+(int(self.vacn)+(int(self.repairs)+(int(self.capx)+(int(self.pmgmt)))))))\n",
    "\n",
    "        print(':::Investment:::')\n",
    "\n",
    "    def Cashflow(self):\n",
    "        self.cashflow = (int(self.total_1) - (int(self.total_2)))\n",
    "                         \n",
    "       \n",
    "        print(':::::CASH ON CASH ROI:::::')\n",
    "                         \n",
    "    def COCROI(self):\n",
    "        self.down = input('Down Payment: ')\n",
    "        self.close = input('Closing Cost: ')\n",
    "        self.rehab = input('Rehab Budget: ')\n",
    "        self.misc2 = input('Misc: ')\n",
    "\n",
    "\n",
    "property = TOTAL()\n",
    "print(property.Income())\n",
    "print(property.Expenses())\n",
    "print(property.Cashflow())\n",
    "print(property.CICROI())\n",
    "    \n",
    "\n",
    "ROI = (int(self.cashflow)*12)%(self.COCROI)\n",
    "print(ROI)"
   ]
  }
 ],
 "metadata": {
  "kernelspec": {
   "display_name": "Python 3.9.7 64-bit",
   "language": "python",
   "name": "python3"
  },
  "language_info": {
   "codemirror_mode": {
    "name": "ipython",
    "version": 3
   },
   "file_extension": ".py",
   "mimetype": "text/x-python",
   "name": "python",
   "nbconvert_exporter": "python",
   "pygments_lexer": "ipython3",
   "version": "3.9.7"
  },
  "vscode": {
   "interpreter": {
    "hash": "aee8b7b246df8f9039afb4144a1f6fd8d2ca17a180786b69acc140d282b71a49"
   }
  }
 },
 "nbformat": 4,
 "nbformat_minor": 5
}
